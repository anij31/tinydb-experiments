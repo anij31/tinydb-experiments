{
 "cells": [
  {
   "cell_type": "code",
   "execution_count": 2,
   "id": "a185d7db",
   "metadata": {},
   "outputs": [],
   "source": [
    "from tinydb import TinyDB"
   ]
  },
  {
   "cell_type": "code",
   "execution_count": 3,
   "id": "3f3c3cbf",
   "metadata": {},
   "outputs": [],
   "source": [
    "db = TinyDB('multiple_inserts.json')"
   ]
  },
  {
   "cell_type": "code",
   "execution_count": 4,
   "id": "d5a1e5f5",
   "metadata": {},
   "outputs": [
    {
     "data": {
      "text/plain": [
       "[1, 2]"
      ]
     },
     "execution_count": 4,
     "metadata": {},
     "output_type": "execute_result"
    }
   ],
   "source": [
    "inserts = [\n",
    "    {'name': 'John', 'age': 32},\n",
    "    {'name': 'John', 'age': 37}\n",
    "]\n",
    "\n",
    "db.insert_multiple(inserts)"
   ]
  },
  {
   "cell_type": "code",
   "execution_count": 5,
   "id": "fdb9b86c",
   "metadata": {},
   "outputs": [
    {
     "data": {
      "text/plain": [
       "[{'name': 'John', 'age': 32}, {'name': 'John', 'age': 37}]"
      ]
     },
     "execution_count": 5,
     "metadata": {},
     "output_type": "execute_result"
    }
   ],
   "source": [
    "db.all()"
   ]
  },
  {
   "cell_type": "code",
   "execution_count": 7,
   "id": "dc9e7673",
   "metadata": {},
   "outputs": [
    {
     "ename": "ImportError",
     "evalue": "cannot import name 'Document' from 'tinydb' (/home/ani/dev/projects/tinydb-experiments/.venv/lib64/python3.13/site-packages/tinydb/__init__.py)",
     "output_type": "error",
     "traceback": [
      "\u001b[31m---------------------------------------------------------------------------\u001b[39m",
      "\u001b[31mImportError\u001b[39m                               Traceback (most recent call last)",
      "\u001b[36mCell\u001b[39m\u001b[36m \u001b[39m\u001b[32mIn[7]\u001b[39m\u001b[32m, line 1\u001b[39m\n\u001b[32m----> \u001b[39m\u001b[32m1\u001b[39m \u001b[38;5;28;01mfrom\u001b[39;00m\u001b[38;5;250m \u001b[39m\u001b[34;01mtinydb\u001b[39;00m\u001b[38;5;250m \u001b[39m\u001b[38;5;28;01mimport\u001b[39;00m Document\n",
      "\u001b[31mImportError\u001b[39m: cannot import name 'Document' from 'tinydb' (/home/ani/dev/projects/tinydb-experiments/.venv/lib64/python3.13/site-packages/tinydb/__init__.py)"
     ]
    }
   ],
   "source": [
    "from tinydb import Document"
   ]
  },
  {
   "cell_type": "code",
   "execution_count": 6,
   "id": "7c01c8c0",
   "metadata": {},
   "outputs": [
    {
     "ename": "NameError",
     "evalue": "name 'Document' is not defined",
     "output_type": "error",
     "traceback": [
      "\u001b[31m---------------------------------------------------------------------------\u001b[39m",
      "\u001b[31mNameError\u001b[39m                                 Traceback (most recent call last)",
      "\u001b[36mCell\u001b[39m\u001b[36m \u001b[39m\u001b[32mIn[6]\u001b[39m\u001b[32m, line 2\u001b[39m\n\u001b[32m      1\u001b[39m \u001b[38;5;66;03m# In some cases, it might be important to specify a document ID\u001b[39;00m\n\u001b[32m----> \u001b[39m\u001b[32m2\u001b[39m db.insert(\u001b[43mDocument\u001b[49m({\u001b[33m'\u001b[39m\u001b[33mname\u001b[39m\u001b[33m'\u001b[39m: \u001b[33m'\u001b[39m\u001b[33mJohn\u001b[39m\u001b[33m'\u001b[39m, \u001b[33m'\u001b[39m\u001b[33mage\u001b[39m\u001b[33m'\u001b[39m: \u001b[32m22\u001b[39m}, doc_id=\u001b[32m12\u001b[39m))\n\u001b[32m      3\u001b[39m db.all()\n",
      "\u001b[31mNameError\u001b[39m: name 'Document' is not defined"
     ]
    }
   ],
   "source": [
    "# In some cases, it might be important to specify a document ID\n",
    "db.insert(Document({'name': 'John', 'age': 22}, doc_id=12))\n",
    "db.all()"
   ]
  },
  {
   "cell_type": "code",
   "execution_count": 8,
   "id": "810ccdd0",
   "metadata": {},
   "outputs": [],
   "source": [
    "# Above is a conflict in official documentation vs implemenation"
   ]
  },
  {
   "cell_type": "code",
   "execution_count": null,
   "id": "a3dd380c",
   "metadata": {},
   "outputs": [],
   "source": []
  }
 ],
 "metadata": {
  "kernelspec": {
   "display_name": ".venv",
   "language": "python",
   "name": "python3"
  },
  "language_info": {
   "codemirror_mode": {
    "name": "ipython",
    "version": 3
   },
   "file_extension": ".py",
   "mimetype": "text/x-python",
   "name": "python",
   "nbconvert_exporter": "python",
   "pygments_lexer": "ipython3",
   "version": "3.13.5"
  }
 },
 "nbformat": 4,
 "nbformat_minor": 5
}
