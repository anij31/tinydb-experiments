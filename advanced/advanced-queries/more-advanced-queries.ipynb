{
 "cells": [
  {
   "cell_type": "code",
   "execution_count": 3,
   "id": "b8ba4ac1",
   "metadata": {},
   "outputs": [],
   "source": [
    "# Import tinydb\n",
    "from tinydb import TinyDB, Query"
   ]
  },
  {
   "cell_type": "code",
   "execution_count": 4,
   "id": "85303287",
   "metadata": {},
   "outputs": [],
   "source": [
    "# create a db and a corresponding query\n",
    "db = TinyDB('more-users.json')\n",
    "User = Query()"
   ]
  },
  {
   "cell_type": "code",
   "execution_count": 5,
   "id": "a8755476",
   "metadata": {},
   "outputs": [
    {
     "data": {
      "text/plain": [
       "[{'name': 'John', 'age': 65}]"
      ]
     },
     "execution_count": 5,
     "metadata": {},
     "output_type": "execute_result"
    }
   ],
   "source": [
    "# Add some users\n",
    "db.insert({'name': 'John', 'age': 65})\n",
    "db.all()"
   ]
  },
  {
   "cell_type": "code",
   "execution_count": 6,
   "id": "a9ae7d4e",
   "metadata": {},
   "outputs": [
    {
     "data": {
      "text/plain": [
       "[{'name': 'John', 'age': 65}]"
      ]
     },
     "execution_count": 6,
     "metadata": {},
     "output_type": "execute_result"
    }
   ],
   "source": [
    "# Checking for the existence of fields\n",
    "db.search(User.name.exists())"
   ]
  },
  {
   "cell_type": "code",
   "execution_count": 7,
   "id": "290809a7",
   "metadata": {},
   "outputs": [
    {
     "data": {
      "text/plain": [
       "QueryImpl('exists', ('name',))"
      ]
     },
     "execution_count": 7,
     "metadata": {},
     "output_type": "execute_result"
    }
   ],
   "source": [
    "User.name.exists()"
   ]
  },
  {
   "cell_type": "code",
   "execution_count": 8,
   "id": "4a1c259a",
   "metadata": {},
   "outputs": [
    {
     "data": {
      "text/plain": [
       "[{'name': 'John', 'age': 65}]"
      ]
     },
     "execution_count": 8,
     "metadata": {},
     "output_type": "execute_result"
    }
   ],
   "source": [
    "db.search(User.name.matches('[aZ]*'))"
   ]
  },
  {
   "cell_type": "code",
   "execution_count": 9,
   "id": "f678bb7a",
   "metadata": {},
   "outputs": [
    {
     "data": {
      "text/plain": [
       "[{'name': 'John', 'age': 65}]"
      ]
     },
     "execution_count": 9,
     "metadata": {},
     "output_type": "execute_result"
    }
   ],
   "source": [
    "import re\n",
    "\n",
    "# Case insensitive search for John\n",
    "db.search(User.name.matches('John', flags=re.IGNORECASE))"
   ]
  },
  {
   "cell_type": "code",
   "execution_count": 10,
   "id": "d72dc604",
   "metadata": {},
   "outputs": [
    {
     "data": {
      "text/plain": [
       "[]"
      ]
     },
     "execution_count": 10,
     "metadata": {},
     "output_type": "execute_result"
    }
   ],
   "source": [
    "# Any part of the item has to match the regex\n",
    "db.search(User.name.matches('b+'))"
   ]
  },
  {
   "cell_type": "code",
   "execution_count": 11,
   "id": "e47a97c3",
   "metadata": {},
   "outputs": [
    {
     "data": {
      "text/plain": [
       "[{'name': 'John', 'age': 65}]"
      ]
     },
     "execution_count": 11,
     "metadata": {},
     "output_type": "execute_result"
    }
   ],
   "source": [
    "# We can also find the item if it passes a custom test\n",
    "test_func = lambda s: s == 'John'\n",
    "db.search(User.name.test(test_func))"
   ]
  },
  {
   "cell_type": "code",
   "execution_count": 12,
   "id": "c1d44df0",
   "metadata": {},
   "outputs": [
    {
     "data": {
      "text/plain": [
       "[]"
      ]
     },
     "execution_count": 12,
     "metadata": {},
     "output_type": "execute_result"
    }
   ],
   "source": [
    "# Custom test with parameters\n",
    "def test_func(val, m, n):\n",
    "    return m <= val <= n\n",
    "\n",
    "db.search(User.age.test(test_func, 0, 21))"
   ]
  },
  {
   "cell_type": "code",
   "execution_count": 13,
   "id": "eef6aa31",
   "metadata": {},
   "outputs": [
    {
     "data": {
      "text/plain": [
       "[{'name': 'John', 'age': 65}]"
      ]
     },
     "execution_count": 13,
     "metadata": {},
     "output_type": "execute_result"
    }
   ],
   "source": [
    "db.search(User.age.test(test_func, 21, 99))"
   ]
  },
  {
   "cell_type": "code",
   "execution_count": 14,
   "id": "e1857539",
   "metadata": {},
   "outputs": [],
   "source": [
    "# when a field contains a list\n",
    "db2 = TinyDB('usersgroups.json')"
   ]
  },
  {
   "cell_type": "code",
   "execution_count": 16,
   "id": "476373ce",
   "metadata": {},
   "outputs": [
    {
     "data": {
      "text/plain": [
       "3"
      ]
     },
     "execution_count": 16,
     "metadata": {},
     "output_type": "execute_result"
    }
   ],
   "source": [
    "db2.insert({'name': 'user1', 'groups': ['user']})\n",
    "db2.insert({'name': 'user2', 'groups': ['user', 'admin']})\n",
    "db2.insert({'name': 'user3', 'groups': ['user', 'sudo']})"
   ]
  },
  {
   "cell_type": "code",
   "execution_count": 17,
   "id": "5ce81d13",
   "metadata": {},
   "outputs": [
    {
     "data": {
      "text/plain": [
       "[{'name': 'user2', 'groups': ['user', 'admin']},\n",
       " {'name': 'user3', 'groups': ['user', 'sudo']}]"
      ]
     },
     "execution_count": 17,
     "metadata": {},
     "output_type": "execute_result"
    }
   ],
   "source": [
    "# Using any and all\n",
    "db2.search(Query().groups.any(['sudo', 'admin']))"
   ]
  },
  {
   "cell_type": "code",
   "execution_count": 18,
   "id": "dd2568da",
   "metadata": {},
   "outputs": [
    {
     "data": {
      "text/plain": [
       "[{'name': 'user2', 'groups': ['user', 'admin']}]"
      ]
     },
     "execution_count": 18,
     "metadata": {},
     "output_type": "execute_result"
    }
   ],
   "source": [
    "db2.search(Query().groups.all(['user', 'admin']))"
   ]
  },
  {
   "cell_type": "code",
   "execution_count": 19,
   "id": "dcefab00",
   "metadata": {},
   "outputs": [],
   "source": [
    "# Nested Queries\n",
    "Group = Query()\n",
    "Permission = Query()"
   ]
  },
  {
   "cell_type": "code",
   "execution_count": 21,
   "id": "afe49005",
   "metadata": {},
   "outputs": [],
   "source": [
    "db3 = TinyDB('groups.json')"
   ]
  },
  {
   "cell_type": "code",
   "execution_count": 23,
   "id": "a8a35e1a",
   "metadata": {},
   "outputs": [],
   "source": [
    "groups = db3.table('groups')"
   ]
  },
  {
   "cell_type": "code",
   "execution_count": 26,
   "id": "1c2385f9",
   "metadata": {},
   "outputs": [
    {
     "data": {
      "text/plain": [
       "2"
      ]
     },
     "execution_count": 26,
     "metadata": {},
     "output_type": "execute_result"
    }
   ],
   "source": [
    "groups.insert({\n",
    "    'name': 'user',\n",
    "    'permissions': [{'type': 'read'}]\n",
    "})"
   ]
  },
  {
   "cell_type": "code",
   "execution_count": 27,
   "id": "f8c71400",
   "metadata": {},
   "outputs": [
    {
     "data": {
      "text/plain": [
       "4"
      ]
     },
     "execution_count": 27,
     "metadata": {},
     "output_type": "execute_result"
    }
   ],
   "source": [
    "groups.insert({\n",
    "    'name': 'sudo',\n",
    "    'permissions': [{'type': 'read'}, {'type': 'sudo'}]\n",
    "})\n",
    "\n",
    "groups.insert({\n",
    "    'name': 'admin',\n",
    "    'permissions': [{'type': 'read'}, {'type': 'write'}, {'type': 'sudo'}]\n",
    "})"
   ]
  },
  {
   "cell_type": "code",
   "execution_count": 28,
   "id": "ee93effb",
   "metadata": {},
   "outputs": [
    {
     "data": {
      "text/plain": [
       "[{'name': 'user', 'permissions': [{'type': 'read'}]},\n",
       " {'name': 'sudo', 'permissions': [{'type': 'read'}, {'type': 'sudo'}]},\n",
       " {'name': 'admin',\n",
       "  'permissions': [{'type': 'read'}, {'type': 'write'}, {'type': 'sudo'}]}]"
      ]
     },
     "execution_count": 28,
     "metadata": {},
     "output_type": "execute_result"
    }
   ],
   "source": [
    "# Search group has a permission with type read\n",
    "groups.search(Group.permissions.any(Permission.type == 'read'))"
   ]
  },
  {
   "cell_type": "code",
   "execution_count": 29,
   "id": "f1e5779f",
   "metadata": {},
   "outputs": [
    {
     "data": {
      "text/plain": [
       "[{'name': 'user', 'permissions': [{'type': 'read'}]}]"
      ]
     },
     "execution_count": 29,
     "metadata": {},
     "output_type": "execute_result"
    }
   ],
   "source": [
    "# Group with only READ permission\n",
    "groups.search(Group.permissions.all(Permission.type == 'read'))"
   ]
  },
  {
   "cell_type": "code",
   "execution_count": 31,
   "id": "3164ab06",
   "metadata": {},
   "outputs": [
    {
     "data": {
      "text/plain": [
       "[{'name': 'John', 'age': 65}]"
      ]
     },
     "execution_count": 31,
     "metadata": {},
     "output_type": "execute_result"
    }
   ],
   "source": [
    "# one another way\n",
    "db.search(User.name.one_of(['jane', 'John']))"
   ]
  },
  {
   "cell_type": "code",
   "execution_count": null,
   "id": "14f72cf7",
   "metadata": {},
   "outputs": [],
   "source": []
  }
 ],
 "metadata": {
  "kernelspec": {
   "display_name": ".venv",
   "language": "python",
   "name": "python3"
  },
  "language_info": {
   "codemirror_mode": {
    "name": "ipython",
    "version": 3
   },
   "file_extension": ".py",
   "mimetype": "text/x-python",
   "name": "python",
   "nbconvert_exporter": "python",
   "pygments_lexer": "ipython3",
   "version": "3.13.5"
  }
 },
 "nbformat": 4,
 "nbformat_minor": 5
}
