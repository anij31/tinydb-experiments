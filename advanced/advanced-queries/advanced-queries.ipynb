{
 "cells": [
  {
   "cell_type": "code",
   "execution_count": 1,
   "id": "76294f78",
   "metadata": {},
   "outputs": [],
   "source": [
    "from tinydb import TinyDB, Query"
   ]
  },
  {
   "cell_type": "code",
   "execution_count": 2,
   "id": "a03d1ced",
   "metadata": {},
   "outputs": [],
   "source": [
    "# Set up db and query\n",
    "db = TinyDB('users.json')\n",
    "User = Query()"
   ]
  },
  {
   "cell_type": "code",
   "execution_count": 3,
   "id": "81b5f438",
   "metadata": {},
   "outputs": [
    {
     "data": {
      "text/plain": [
       "2"
      ]
     },
     "execution_count": 3,
     "metadata": {},
     "output_type": "execute_result"
    }
   ],
   "source": [
    "# Insert some documents in db\n",
    "db.insert({'name': 'John', 'age': 37})\n",
    "db.insert({'name': 'Daniel', 'age': 68})"
   ]
  },
  {
   "cell_type": "code",
   "execution_count": 4,
   "id": "c2ff32c2",
   "metadata": {},
   "outputs": [
    {
     "data": {
      "text/plain": [
       "[{'name': 'John', 'age': 37}]"
      ]
     },
     "execution_count": 4,
     "metadata": {},
     "output_type": "execute_result"
    }
   ],
   "source": [
    "# Search john\n",
    "db.search(User.name == 'John')"
   ]
  },
  {
   "cell_type": "code",
   "execution_count": 6,
   "id": "e07e84d3",
   "metadata": {},
   "outputs": [],
   "source": [
    "# Create a nested document db\n",
    "ndb = TinyDB('nested-users.json')\n",
    "nuser = Query()"
   ]
  },
  {
   "cell_type": "code",
   "execution_count": 7,
   "id": "01781f11",
   "metadata": {},
   "outputs": [
    {
     "data": {
      "text/plain": [
       "[{'name': 'John', 'birthday': {'year': 1990, 'month': 1, 'date': 12}}]"
      ]
     },
     "execution_count": 7,
     "metadata": {},
     "output_type": "execute_result"
    }
   ],
   "source": [
    "# Insert a nested document\n",
    "ndb.insert({'name': 'John', 'birthday': {'year': 1990, 'month': 1, 'date': 12}})\n",
    "# Get John's birth year\n",
    "ndb.search(nuser.birthday.year == 1990)"
   ]
  },
  {
   "cell_type": "code",
   "execution_count": 8,
   "id": "b5ca096d",
   "metadata": {},
   "outputs": [],
   "source": [
    "# If the field name is not a valid format, use ndb.search(nuser[country-code] == 'foo')"
   ]
  },
  {
   "cell_type": "code",
   "execution_count": 9,
   "id": "2642794c",
   "metadata": {},
   "outputs": [
    {
     "data": {
      "text/plain": [
       "[{'name': 'John', 'birthday': {'year': 1990, 'month': 1, 'date': 12}}]"
      ]
     },
     "execution_count": 9,
     "metadata": {},
     "output_type": "execute_result"
    }
   ],
   "source": [
    "# Another way to do searching is using where\n",
    "from tinydb import where\n",
    "ndb.search(where('birthday')['year'] == 1990)"
   ]
  },
  {
   "cell_type": "code",
   "execution_count": null,
   "id": "5e6426dd",
   "metadata": {},
   "outputs": [],
   "source": []
  }
 ],
 "metadata": {
  "kernelspec": {
   "display_name": ".venv",
   "language": "python",
   "name": "python3"
  },
  "language_info": {
   "codemirror_mode": {
    "name": "ipython",
    "version": 3
   },
   "file_extension": ".py",
   "mimetype": "text/x-python",
   "name": "python",
   "nbconvert_exporter": "python",
   "pygments_lexer": "ipython3",
   "version": "3.13.5"
  }
 },
 "nbformat": 4,
 "nbformat_minor": 5
}
