{
 "cells": [
  {
   "cell_type": "code",
   "execution_count": 1,
   "id": "d3ba6d36",
   "metadata": {},
   "outputs": [],
   "source": [
    "from tinydb import TinyDB, Query"
   ]
  },
  {
   "cell_type": "code",
   "execution_count": 2,
   "id": "e7726738",
   "metadata": {},
   "outputs": [],
   "source": [
    "db = TinyDB('moreusers.json')"
   ]
  },
  {
   "cell_type": "code",
   "execution_count": 3,
   "id": "e7e31967",
   "metadata": {},
   "outputs": [
    {
     "data": {
      "text/plain": [
       "2"
      ]
     },
     "execution_count": 3,
     "metadata": {},
     "output_type": "execute_result"
    }
   ],
   "source": [
    "# insert some users\n",
    "db.insert({'user': 'john', 'age': 65})\n",
    "db.insert({'user': 'bob', 'age': 78})"
   ]
  },
  {
   "cell_type": "code",
   "execution_count": 7,
   "id": "aa160b91",
   "metadata": {},
   "outputs": [
    {
     "data": {
      "text/plain": [
       "[{'user': 'john', 'age': 65}]"
      ]
     },
     "execution_count": 7,
     "metadata": {},
     "output_type": "execute_result"
    }
   ],
   "source": [
    "# Negate a query\n",
    "userquery = Query()\n",
    "db.search(~ (userquery.user == 'bob'))"
   ]
  },
  {
   "cell_type": "code",
   "execution_count": 8,
   "id": "97a67d62",
   "metadata": {},
   "outputs": [
    {
     "data": {
      "text/plain": [
       "[]"
      ]
     },
     "execution_count": 8,
     "metadata": {},
     "output_type": "execute_result"
    }
   ],
   "source": [
    "# Logical And\n",
    "db.search((userquery.user == 'john') & (userquery.age <= 40))"
   ]
  },
  {
   "cell_type": "code",
   "execution_count": 9,
   "id": "267b3c11",
   "metadata": {},
   "outputs": [
    {
     "data": {
      "text/plain": [
       "[{'user': 'john', 'age': 65}, {'user': 'bob', 'age': 78}]"
      ]
     },
     "execution_count": 9,
     "metadata": {},
     "output_type": "execute_result"
    }
   ],
   "source": [
    "# Logical OR\n",
    "db.search((userquery.user == 'john') | (userquery.user == 'bob'))"
   ]
  },
  {
   "cell_type": "code",
   "execution_count": null,
   "id": "24d91352",
   "metadata": {},
   "outputs": [],
   "source": []
  }
 ],
 "metadata": {
  "kernelspec": {
   "display_name": ".venv",
   "language": "python",
   "name": "python3"
  },
  "language_info": {
   "codemirror_mode": {
    "name": "ipython",
    "version": 3
   },
   "file_extension": ".py",
   "mimetype": "text/x-python",
   "name": "python",
   "nbconvert_exporter": "python",
   "pygments_lexer": "ipython3",
   "version": "3.13.5"
  }
 },
 "nbformat": 4,
 "nbformat_minor": 5
}
